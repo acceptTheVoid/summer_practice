{
 "cells": [
  {
   "cell_type": "code",
   "execution_count": 17,
   "metadata": {},
   "outputs": [
    {
     "name": "stdout",
     "output_type": "stream",
     "text": [
      "23 32 41 50 59 68 77 86 95\n"
     ]
    }
   ],
   "source": [
    "# simple_map\n",
    "def simple_map(fn, l):\n",
    "    return [fn(i) for i in l]\n",
    "\n",
    "values = [1, 3, 1, 5, 7]\n",
    "operation = lambda x: x + 5\n",
    "print(*simple_map(operation, values))\n"
   ]
  },
  {
   "cell_type": "code",
   "execution_count": 19,
   "metadata": {},
   "outputs": [
    {
     "name": "stdout",
     "output_type": "stream",
     "text": [
      "31104\n"
     ]
    }
   ],
   "source": [
    "# filter, map, sum\n",
    "print(sum(map(lambda n: n * n, filter(lambda n: n % 9 == 0, range(10, 99)))))"
   ]
  },
  {
   "cell_type": "code",
   "execution_count": null,
   "metadata": {},
   "outputs": [],
   "source": [
    "# Гематрия (инглиш умер)\n",
    "from sys import stdin\n",
    "\n",
    "def gematria(word: str):\n",
    "    return sum(map(lambda c: ord(c) - ord('A') + 1, word.upper()))\n",
    "\n",
    "words = []\n",
    "for word in stdin:\n",
    "    word = word.strip()\n",
    "    if not word: break\n",
    "    words.append((gematria(word), word))\n",
    "\n",
    "print(*[i[1] for i in sorted(words)])\n"
   ]
  },
  {
   "cell_type": "code",
   "execution_count": 1,
   "metadata": {},
   "outputs": [
    {
     "name": "stdout",
     "output_type": "stream",
     "text": [
      "True\n",
      "False\n"
     ]
    }
   ],
   "source": [
    "# pin-code\n",
    "def is_power_of_two(n: int) -> bool:\n",
    "    return n & (n - 1) == 0\n",
    "\n",
    "def is_prime(n: int) -> bool:\n",
    "    d = 2\n",
    "    while d * d <= n and n % d != 0:\n",
    "        d += 1\n",
    "    return d * d > n\n",
    "\n",
    "def check_pin(code: str) -> bool:\n",
    "    code = code.split('-')\n",
    "    if len(code) < 3: return False\n",
    "    if not is_prime(int(code[0])): return False\n",
    "    if code[1] != code[1][::-1]: return False\n",
    "    if not is_power_of_two(int(code[2])): return False\n",
    "    return True\n",
    "\n",
    "print(check_pin('7-101-4'))\n",
    "print(check_pin('12-22-16'))\n"
   ]
  }
 ],
 "metadata": {
  "kernelspec": {
   "display_name": "Python 3.10.5 64-bit",
   "language": "python",
   "name": "python3"
  },
  "language_info": {
   "name": "python",
   "version": "3.10.5"
  },
  "orig_nbformat": 4,
  "vscode": {
   "interpreter": {
    "hash": "e608934a2db69030f7728ed8e424c7a93e0cc8ab8c2c773cf7639cc8e4d85c0f"
   }
  }
 },
 "nbformat": 4,
 "nbformat_minor": 2
}
