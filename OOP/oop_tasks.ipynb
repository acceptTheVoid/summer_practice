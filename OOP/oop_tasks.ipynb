{
 "cells": [
  {
   "cell_type": "code",
   "execution_count": 5,
   "metadata": {},
   "outputs": [],
   "source": [
    "# A. Весы\n",
    "class Balance:\n",
    "    def __init__(self):\n",
    "        self.left, self.right = 0, 0\n",
    "\n",
    "    def add_left(self, weight: int):\n",
    "        self.left += weight\n",
    "\n",
    "    def add_right(self, weight: int):\n",
    "        self.right += weight\n",
    "\n",
    "    def result(self) -> str:\n",
    "        if self.left == self.right: return '='\n",
    "        elif self.left > self.right: return 'L'\n",
    "        else: return 'R'"
   ]
  },
  {
   "cell_type": "code",
   "execution_count": 6,
   "metadata": {},
   "outputs": [
    {
     "name": "stdout",
     "output_type": "stream",
     "text": [
      "L\n"
     ]
    }
   ],
   "source": [
    "# Пример 1\n",
    "balance = Balance()\n",
    "balance.add_right(10)\n",
    "balance.add_left(9)\n",
    "balance.add_left(2)\n",
    "print(balance.result())"
   ]
  },
  {
   "cell_type": "code",
   "execution_count": 7,
   "metadata": {},
   "outputs": [
    {
     "name": "stdout",
     "output_type": "stream",
     "text": [
      "=\n",
      "L\n"
     ]
    }
   ],
   "source": [
    "# Пример 2\n",
    "balance = Balance()\n",
    "balance.add_right(10)\n",
    "balance.add_left(5)\n",
    "balance.add_left(5)\n",
    "print(balance.result())\n",
    "balance.add_left(1)\n",
    "print(balance.result())"
   ]
  },
  {
   "cell_type": "code",
   "execution_count": 10,
   "metadata": {},
   "outputs": [],
   "source": [
    "# B. Вектор на плоскости\n",
    "from math import sqrt\n",
    "\n",
    "class MyVector():\n",
    "    def __init__(self, x: int = 0, y: int = 0):\n",
    "       self.x, self.y = x, y\n",
    "\n",
    "    def __add__(self, other):\n",
    "        return MyVector(self.x + other.x, self.y + other.y)\n",
    "\n",
    "    def __iadd__(self, other):\n",
    "        self.x += other.x\n",
    "        self.y += other.y\n",
    "        return self\n",
    "\n",
    "    def __add__(self, other):\n",
    "        return MyVector(self.x - other.x, self.y - other.y)\n",
    "\n",
    "    def __iadd__(self, other):\n",
    "        self.x -= other.x\n",
    "        self.y -= other.y\n",
    "        return self     \n",
    "\n",
    "    def __neg__(self):\n",
    "        return MyVector(-self.x, -self.y)\n",
    "\n",
    "    def __pos__(self):\n",
    "        return MyVector(self.x, self.y)\n",
    "\n",
    "    def __abs__(self):\n",
    "        return sqrt(self.x * self.x + self.y * self.y)\n",
    "\n",
    "    def __eq__(self, other):\n",
    "        return self.x == other.x and self.y == other.y\n",
    "\n",
    "    def __mul__(self, num: int):\n",
    "        return MyVector(self.x * num, self.y * num)\n",
    "\n",
    "    def __rmul__(self, num: int):\n",
    "        return MyVector(self.x * num, self.y * num)\n",
    "        \n",
    "    def __imul__(self, num: int):\n",
    "        self.x *= num\n",
    "        self.y *= num\n",
    "        return self\n",
    "\n",
    "    def __str__(self):\n",
    "        return f'MyVector({self.x}, {self.y})'"
   ]
  },
  {
   "cell_type": "code",
   "execution_count": 11,
   "metadata": {},
   "outputs": [
    {
     "name": "stdout",
     "output_type": "stream",
     "text": [
      "MyVector(-5, 9)\n"
     ]
    }
   ],
   "source": [
    "# Пример 1\n",
    "v1 = MyVector(-2, 5)\n",
    "v2 = MyVector(3, -4)\n",
    "v_sum = v1 + v2\n",
    "print(v_sum)"
   ]
  },
  {
   "cell_type": "code",
   "execution_count": 13,
   "metadata": {},
   "outputs": [],
   "source": [
    "# C. Minecraft\n",
    "\n",
    "class BaseObject:\n",
    "    def __init__(self, x: int, y: int, z: int):\n",
    "        self.x, self.y, self.z = x, y, z\n",
    "    \n",
    "    def get_coordinates(self):\n",
    "        return (self.x, self.y, self.z)\n",
    "\n",
    "\n",
    "class Block(BaseObject):\n",
    "    def shatter(self):\n",
    "        self.x, self.y, self.z = None, None, None\n",
    "\n",
    "\n",
    "class Entity(BaseObject):\n",
    "    def move(self, x: int, y: int, z: int):\n",
    "        self.x, self.y, self.z = x, y, z\n",
    "\n",
    "\n",
    "class Thing(BaseObject):\n",
    "    pass"
   ]
  },
  {
   "cell_type": "code",
   "execution_count": 25,
   "metadata": {},
   "outputs": [],
   "source": [
    "# Тесты\n",
    "def test_base():\n",
    "    base = BaseObject(0, 0, 0)\n",
    "    assert base.x == 0 and base.y == 0 and base.z == 0\n",
    "    coords = base.get_coordinates()\n",
    "    assert (0, 0, 0) == coords\n",
    "\n",
    "def test_block():\n",
    "    block = Block(0, 0, 0)\n",
    "    block.shatter()\n",
    "    assert block.x == None and block.y == None and block.z == None\n",
    "\n",
    "def test_entity():\n",
    "    entity = Entity(0, 0, 0)\n",
    "    entity.move(1, 1, -1)\n",
    "    assert entity.x == 1 and entity.y == 1 and entity.z == -1\n",
    "\n",
    "# Мне правда стоит проверять класс Thing? \n",
    "\n",
    "test_base()\n",
    "test_block()\n",
    "test_entity()"
   ]
  },
  {
   "cell_type": "code",
   "execution_count": 42,
   "metadata": {},
   "outputs": [],
   "source": [
    "# D. Сложение многочленов\n",
    "class Polynomial:\n",
    "    def __init__(self, coeff: list):\n",
    "        self.coeff = coeff\n",
    "\n",
    "    def __call__(self, num: int) -> int:\n",
    "        sum, cur = 0, 1\n",
    "        for i in self.coeff:\n",
    "            sum += i * cur\n",
    "            cur *= num\n",
    "        return sum\n",
    "\n",
    "    def __add__(self, other):\n",
    "        sl, ol = len(self.coeff), len(other.coeff)\n",
    "        diff = abs(sl - ol)\n",
    "        m = self.coeff if sl > ol else other.coeff\n",
    "        sum_coeff = [s + o for s, o in zip(self.coeff, other.coeff)]\n",
    "        sum_coeff.extend(m[diff:])\n",
    "        return Polynomial(sum_coeff)\n",
    "        "
   ]
  },
  {
   "cell_type": "code",
   "execution_count": 29,
   "metadata": {},
   "outputs": [
    {
     "name": "stdout",
     "output_type": "stream",
     "text": [
      "10\n",
      "9\n",
      "8\n"
     ]
    }
   ],
   "source": [
    "# Пример 1\n",
    "poly = Polynomial([10, -1])\n",
    "print(poly(0))\n",
    "print(poly(1))\n",
    "print(poly(2))\n"
   ]
  },
  {
   "cell_type": "code",
   "execution_count": 44,
   "metadata": {},
   "outputs": [
    {
     "name": "stdout",
     "output_type": "stream",
     "text": [
      "8 8\n",
      "9 9\n",
      "10 10\n",
      "11 11\n",
      "12 12\n"
     ]
    }
   ],
   "source": [
    "# Пример 2\n",
    "poly1 = Polynomial([0, 1])\n",
    "poly2 = Polynomial([10])\n",
    "poly3 = poly1 + poly2\n",
    "poly4 = poly2 + poly1\n",
    "print(poly3(-2), poly4(-2))\n",
    "print(poly3(-1), poly4(-1))\n",
    "print(poly3(0), poly4(0))\n",
    "print(poly3(1), poly4(1))\n",
    "print(poly3(2), poly4(2))"
   ]
  },
  {
   "cell_type": "code",
   "execution_count": 43,
   "metadata": {},
   "outputs": [
    {
     "name": "stdout",
     "output_type": "stream",
     "text": [
      "[11, 10, 8, 7]\n"
     ]
    }
   ],
   "source": [
    "# Тесты\n",
    "def add_test():\n",
    "    poly1 = Polynomial([10, 9, 8, 7])\n",
    "    poly2 = Polynomial([1, 1])\n",
    "    print((poly1 + poly2).coeff)\n",
    "\n",
    "add_test()"
   ]
  }
 ],
 "metadata": {
  "kernelspec": {
   "display_name": "Python 3.10.5 64-bit",
   "language": "python",
   "name": "python3"
  },
  "language_info": {
   "codemirror_mode": {
    "name": "ipython",
    "version": 3
   },
   "file_extension": ".py",
   "mimetype": "text/x-python",
   "name": "python",
   "nbconvert_exporter": "python",
   "pygments_lexer": "ipython3",
   "version": "3.10.5"
  },
  "orig_nbformat": 4,
  "vscode": {
   "interpreter": {
    "hash": "e608934a2db69030f7728ed8e424c7a93e0cc8ab8c2c773cf7639cc8e4d85c0f"
   }
  }
 },
 "nbformat": 4,
 "nbformat_minor": 2
}
